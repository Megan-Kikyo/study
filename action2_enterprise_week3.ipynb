{
 "cells": [
  {
   "cell_type": "code",
   "execution_count": 1,
   "metadata": {},
   "outputs": [],
   "source": [
    "###对Titanic数据进行清洗，建模并对乘客生存进行预测。使用之前介绍过的10种模型中的至少2种（包括TPOT）###\n",
    "##采用 构造ID3决策树 TPOT ##\n",
    "##ID3决策树##\n",
    "import numpy as np\n",
    "import pandas as pd\n",
    "from sklearn.tree import DecisionTreeClassifier\n",
    "from sklearn.feature_extraction import DictVectorizer\n",
    "from sklearn.model_selection import cross_val_score\n",
    "from sklearn import metrics\n",
    "from sklearn.feature_extraction import DictVectorizer\n",
    "import os\n",
    "\n",
    "# 数据加载\n",
    "os.chdir(\"D://开课吧数据挖掘资料//第三讲—用户画像/code//titanic\")\n",
    "train_data = pd.read_csv('./train.csv')\n",
    "test_data = pd.read_csv('./test.csv')"
   ]
  },
  {
   "cell_type": "code",
   "execution_count": 2,
   "metadata": {},
   "outputs": [
    {
     "name": "stdout",
     "output_type": "stream",
     "text": [
      "查看数据信息：列名、非空个数、类型等\n",
      "<class 'pandas.core.frame.DataFrame'>\n",
      "RangeIndex: 891 entries, 0 to 890\n",
      "Data columns (total 12 columns):\n",
      "PassengerId    891 non-null int64\n",
      "Survived       891 non-null int64\n",
      "Pclass         891 non-null int64\n",
      "Name           891 non-null object\n",
      "Sex            891 non-null object\n",
      "Age            714 non-null float64\n",
      "SibSp          891 non-null int64\n",
      "Parch          891 non-null int64\n",
      "Ticket         891 non-null object\n",
      "Fare           891 non-null float64\n",
      "Cabin          204 non-null object\n",
      "Embarked       889 non-null object\n",
      "dtypes: float64(2), int64(5), object(5)\n",
      "memory usage: 66.2+ KB\n",
      "None\n",
      "------------------------------\n",
      "查看数据摘要\n",
      "       PassengerId    Survived      Pclass         Age       SibSp  \\\n",
      "count   891.000000  891.000000  891.000000  714.000000  891.000000   \n",
      "mean    446.000000    0.383838    2.308642   29.699118    0.523008   \n",
      "std     257.353842    0.486592    0.836071   14.526497    1.102743   \n",
      "min       1.000000    0.000000    1.000000    0.420000    0.000000   \n",
      "25%     223.500000    0.000000    2.000000   20.125000    0.000000   \n",
      "50%     446.000000    0.000000    3.000000   28.000000    0.000000   \n",
      "75%     668.500000    1.000000    3.000000   38.000000    1.000000   \n",
      "max     891.000000    1.000000    3.000000   80.000000    8.000000   \n",
      "\n",
      "            Parch        Fare  \n",
      "count  891.000000  891.000000  \n",
      "mean     0.381594   32.204208  \n",
      "std      0.806057   49.693429  \n",
      "min      0.000000    0.000000  \n",
      "25%      0.000000    7.910400  \n",
      "50%      0.000000   14.454200  \n",
      "75%      0.000000   31.000000  \n",
      "max      6.000000  512.329200  \n",
      "------------------------------\n",
      "查看离散数据分布\n",
      "                               Name   Sex  Ticket    Cabin Embarked\n",
      "count                           891   891     891      204      889\n",
      "unique                          891     2     681      147        3\n",
      "top     Giles, Mr. Frederick Edward  male  347082  B96 B98        S\n",
      "freq                              1   577       7        4      644\n",
      "------------------------------\n",
      "查看前5条数据\n",
      "   PassengerId  Survived  Pclass  \\\n",
      "0            1         0       3   \n",
      "1            2         1       1   \n",
      "2            3         1       3   \n",
      "3            4         1       1   \n",
      "4            5         0       3   \n",
      "\n",
      "                                                Name     Sex   Age  SibSp  \\\n",
      "0                            Braund, Mr. Owen Harris    male  22.0      1   \n",
      "1  Cumings, Mrs. John Bradley (Florence Briggs Th...  female  38.0      1   \n",
      "2                             Heikkinen, Miss. Laina  female  26.0      0   \n",
      "3       Futrelle, Mrs. Jacques Heath (Lily May Peel)  female  35.0      1   \n",
      "4                           Allen, Mr. William Henry    male  35.0      0   \n",
      "\n",
      "   Parch            Ticket     Fare Cabin Embarked  \n",
      "0      0         A/5 21171   7.2500   NaN        S  \n",
      "1      0          PC 17599  71.2833   C85        C  \n",
      "2      0  STON/O2. 3101282   7.9250   NaN        S  \n",
      "3      0            113803  53.1000  C123        S  \n",
      "4      0            373450   8.0500   NaN        S  \n",
      "------------------------------\n",
      "查看后5条数据\n",
      "     PassengerId  Survived  Pclass                                      Name  \\\n",
      "886          887         0       2                     Montvila, Rev. Juozas   \n",
      "887          888         1       1              Graham, Miss. Margaret Edith   \n",
      "888          889         0       3  Johnston, Miss. Catherine Helen \"Carrie\"   \n",
      "889          890         1       1                     Behr, Mr. Karl Howell   \n",
      "890          891         0       3                       Dooley, Mr. Patrick   \n",
      "\n",
      "        Sex   Age  SibSp  Parch      Ticket   Fare Cabin Embarked  \n",
      "886    male  27.0      0      0      211536  13.00   NaN        S  \n",
      "887  female  19.0      0      0      112053  30.00   B42        S  \n",
      "888  female   NaN      1      2  W./C. 6607  23.45   NaN        S  \n",
      "889    male  26.0      0      0      111369  30.00  C148        C  \n",
      "890    male  32.0      0      0      370376   7.75   NaN        Q  \n"
     ]
    }
   ],
   "source": [
    "#数据探索\n",
    "print('查看数据信息：列名、非空个数、类型等')\n",
    "print(train_data.info())\n",
    "print('-'*30)\n",
    "print('查看数据摘要')\n",
    "print(train_data.describe())\n",
    "print('-'*30)\n",
    "print('查看离散数据分布')\n",
    "print(train_data.describe(include=['O']))\n",
    "print('-'*30)\n",
    "print('查看前5条数据')\n",
    "print(train_data.head())\n",
    "print('-'*30)\n",
    "print('查看后5条数据')\n",
    "print(train_data.tail())"
   ]
  },
  {
   "cell_type": "code",
   "execution_count": 4,
   "metadata": {},
   "outputs": [
    {
     "name": "stdout",
     "output_type": "stream",
     "text": [
      "S    644\n",
      "C    168\n",
      "Q     77\n",
      "Name: Embarked, dtype: int64\n",
      "特征值\n",
      "     Pclass     Sex        Age  SibSp  Parch      Fare Embarked\n",
      "0         3    male  22.000000      1      0    7.2500        S\n",
      "1         1  female  38.000000      1      0   71.2833        C\n",
      "2         3  female  26.000000      0      0    7.9250        S\n",
      "3         1  female  35.000000      1      0   53.1000        S\n",
      "4         3    male  35.000000      0      0    8.0500        S\n",
      "5         3    male  29.699118      0      0    8.4583        Q\n",
      "6         1    male  54.000000      0      0   51.8625        S\n",
      "7         3    male   2.000000      3      1   21.0750        S\n",
      "8         3  female  27.000000      0      2   11.1333        S\n",
      "9         2  female  14.000000      1      0   30.0708        C\n",
      "10        3  female   4.000000      1      1   16.7000        S\n",
      "11        1  female  58.000000      0      0   26.5500        S\n",
      "12        3    male  20.000000      0      0    8.0500        S\n",
      "13        3    male  39.000000      1      5   31.2750        S\n",
      "14        3  female  14.000000      0      0    7.8542        S\n",
      "15        2  female  55.000000      0      0   16.0000        S\n",
      "16        3    male   2.000000      4      1   29.1250        Q\n",
      "17        2    male  29.699118      0      0   13.0000        S\n",
      "18        3  female  31.000000      1      0   18.0000        S\n",
      "19        3  female  29.699118      0      0    7.2250        C\n",
      "20        2    male  35.000000      0      0   26.0000        S\n",
      "21        2    male  34.000000      0      0   13.0000        S\n",
      "22        3  female  15.000000      0      0    8.0292        Q\n",
      "23        1    male  28.000000      0      0   35.5000        S\n",
      "24        3  female   8.000000      3      1   21.0750        S\n",
      "25        3  female  38.000000      1      5   31.3875        S\n",
      "26        3    male  29.699118      0      0    7.2250        C\n",
      "27        1    male  19.000000      3      2  263.0000        S\n",
      "28        3  female  29.699118      0      0    7.8792        Q\n",
      "29        3    male  29.699118      0      0    7.8958        S\n",
      "..      ...     ...        ...    ...    ...       ...      ...\n",
      "861       2    male  21.000000      1      0   11.5000        S\n",
      "862       1  female  48.000000      0      0   25.9292        S\n",
      "863       3  female  29.699118      8      2   69.5500        S\n",
      "864       2    male  24.000000      0      0   13.0000        S\n",
      "865       2  female  42.000000      0      0   13.0000        S\n",
      "866       2  female  27.000000      1      0   13.8583        C\n",
      "867       1    male  31.000000      0      0   50.4958        S\n",
      "868       3    male  29.699118      0      0    9.5000        S\n",
      "869       3    male   4.000000      1      1   11.1333        S\n",
      "870       3    male  26.000000      0      0    7.8958        S\n",
      "871       1  female  47.000000      1      1   52.5542        S\n",
      "872       1    male  33.000000      0      0    5.0000        S\n",
      "873       3    male  47.000000      0      0    9.0000        S\n",
      "874       2  female  28.000000      1      0   24.0000        C\n",
      "875       3  female  15.000000      0      0    7.2250        C\n",
      "876       3    male  20.000000      0      0    9.8458        S\n",
      "877       3    male  19.000000      0      0    7.8958        S\n",
      "878       3    male  29.699118      0      0    7.8958        S\n",
      "879       1  female  56.000000      0      1   83.1583        C\n",
      "880       2  female  25.000000      0      1   26.0000        S\n",
      "881       3    male  33.000000      0      0    7.8958        S\n",
      "882       3  female  22.000000      0      0   10.5167        S\n",
      "883       2    male  28.000000      0      0   10.5000        S\n",
      "884       3    male  25.000000      0      0    7.0500        S\n",
      "885       3  female  39.000000      0      5   29.1250        Q\n",
      "886       2    male  27.000000      0      0   13.0000        S\n",
      "887       1  female  19.000000      0      0   30.0000        S\n",
      "888       3  female  29.699118      1      2   23.4500        S\n",
      "889       1    male  26.000000      0      0   30.0000        C\n",
      "890       3    male  32.000000      0      0    7.7500        Q\n",
      "\n",
      "[891 rows x 7 columns]\n",
      "['Age', 'Embarked=C', 'Embarked=Q', 'Embarked=S', 'Fare', 'Parch', 'Pclass', 'Sex=female', 'Sex=male', 'SibSp']\n"
     ]
    }
   ],
   "source": [
    "# 使用平均年龄来填充年龄中的nan值\n",
    "train_data['Age'].fillna(train_data['Age'].mean(), inplace=True)\n",
    "test_data['Age'].fillna(test_data['Age'].mean(),inplace=True)\n",
    "# 使用票价的均值填充票价中的nan值\n",
    "train_data['Fare'].fillna(train_data['Fare'].mean(), inplace=True)\n",
    "test_data['Fare'].fillna(test_data['Fare'].mean(),inplace=True)\n",
    "\n",
    "print(train_data['Embarked'].value_counts())\n",
    "# 使用登录最多的港口来填充登录港口的nan值\n",
    "train_data['Embarked'].fillna('S', inplace=True)\n",
    "test_data['Embarked'].fillna('S',inplace=True)\n",
    "# 特征选择\n",
    "features = ['Pclass', 'Sex', 'Age', 'SibSp', 'Parch', 'Fare', 'Embarked']\n",
    "train_features = train_data[features]\n",
    "train_labels = train_data['Survived']\n",
    "test_features = test_data[features]\n",
    "#test_labels= test_data['Survived']\n",
    "print('特征值')\n",
    "print(train_features)\n",
    "\n",
    "dvec=DictVectorizer(sparse=False)\n",
    "train_features=dvec.fit_transform(train_features.to_dict(orient='record'))\n",
    "print(dvec.feature_names_)"
   ]
  },
  {
   "cell_type": "code",
   "execution_count": 5,
   "metadata": {},
   "outputs": [
    {
     "name": "stdout",
     "output_type": "stream",
     "text": [
      "score准确率为 0.9820\n",
      "cross_val_score准确率为 0.7801\n"
     ]
    }
   ],
   "source": [
    "## 构造ID3决策树\n",
    "clf = DecisionTreeClassifier(criterion='entropy')\n",
    "# 决策树训练\n",
    "clf.fit(train_features, train_labels)\n",
    "\n",
    "test_features=dvec.transform(test_features.to_dict(orient='record'))\n",
    "# 决策树预测\n",
    "pred_labels = clf.predict(test_features)\n",
    "\n",
    "# 得到决策树准确率(基于训练集)\n",
    "acc_decision_tree = round(clf.score(train_features, train_labels), 6)\n",
    "print(u'score准确率为 %.4lf' % acc_decision_tree)\n",
    "\n",
    "# 使用K折交叉验证 统计决策树准确率\n",
    "print(u'cross_val_score准确率为 %.4lf' % np.mean(cross_val_score(clf, train_features, train_labels, cv=10)))\n"
   ]
  },
  {
   "cell_type": "code",
   "execution_count": 6,
   "metadata": {},
   "outputs": [
    {
     "name": "stderr",
     "output_type": "stream",
     "text": [
      "C:\\Users\\Administrator\\AppData\\Roaming\\Python\\Python37\\site-packages\\tpot\\builtins\\__init__.py:36: UserWarning: Warning: optional dependency `torch` is not available. - skipping import of NN models.\n",
      "  warnings.warn(\"Warning: optional dependency `torch` is not available. - skipping import of NN models.\")\n"
     ]
    },
    {
     "name": "stdout",
     "output_type": "stream",
     "text": [
      "Warning: xgboost.XGBClassifier is not available and will not be used by TPOT.\n"
     ]
    },
    {
     "data": {
      "application/vnd.jupyter.widget-view+json": {
       "model_id": "",
       "version_major": 2,
       "version_minor": 0
      },
      "text/plain": [
       "HBox(children=(FloatProgress(value=0.0, description='Optimization Progress', max=120.0, style=ProgressStyle(de…"
      ]
     },
     "metadata": {},
     "output_type": "display_data"
    },
    {
     "name": "stdout",
     "output_type": "stream",
     "text": [
      "\n",
      "Generation 1 - Current best internal CV score: 0.8114556525014125\n",
      "Generation 2 - Current best internal CV score: 0.8339212855439081\n",
      "Generation 3 - Current best internal CV score: 0.8339212855439081\n",
      "Generation 4 - Current best internal CV score: 0.8339212855439081\n",
      "Generation 5 - Current best internal CV score: 0.8339212855439081\n",
      "Best pipeline: ExtraTreesClassifier(GradientBoostingClassifier(input_matrix, learning_rate=0.1, max_depth=7, max_features=0.3, min_samples_leaf=8, min_samples_split=18, n_estimators=100, subsample=0.9000000000000001), bootstrap=False, criterion=entropy, max_features=1.0, min_samples_leaf=19, min_samples_split=6, n_estimators=100)\n"
     ]
    },
    {
     "data": {
      "text/plain": [
       "TPOTClassifier(generations=5,\n",
       "               log_file=<ipykernel.iostream.OutStream object at 0x02F52C50>,\n",
       "               population_size=20, verbosity=2)"
      ]
     },
     "execution_count": 6,
     "metadata": {},
     "output_type": "execute_result"
    }
   ],
   "source": [
    "##TPOT##\n",
    "from tpot import TPOTClassifier\n",
    "tpot = TPOTClassifier(generations=5, population_size=20, verbosity=2)\n",
    "tpot.fit(train_features, train_labels)"
   ]
  },
  {
   "cell_type": "code",
   "execution_count": null,
   "metadata": {},
   "outputs": [],
   "source": []
  }
 ],
 "metadata": {
  "kernelspec": {
   "display_name": "Python 3",
   "language": "python",
   "name": "python3"
  },
  "language_info": {
   "codemirror_mode": {
    "name": "ipython",
    "version": 3
   },
   "file_extension": ".py",
   "mimetype": "text/x-python",
   "name": "python",
   "nbconvert_exporter": "python",
   "pygments_lexer": "ipython3",
   "version": "3.7.3"
  }
 },
 "nbformat": 4,
 "nbformat_minor": 2
}
